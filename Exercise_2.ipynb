{
 "cells": [
  {
   "cell_type": "markdown",
   "id": "c2405f45-24e5-4d7d-ba5e-15f587bbb84f",
   "metadata": {},
   "source": [
    "### Exercise 2: Product of Random Numbers"
   ]
  },
  {
   "cell_type": "markdown",
   "id": "b34cf5ca-2814-491d-bf9b-bb4c93936d20",
   "metadata": {},
   "source": [
    "### Develop a Python program that generates two random numbers and asks the user to enter the product of these numbers. The program should then check if the user's answer is correct and display an appropriate message"
   ]
  },
  {
   "cell_type": "code",
   "execution_count": null,
   "id": "1535a9da-c3a6-4f71-b2e1-f4ee77154103",
   "metadata": {},
   "outputs": [],
   "source": [
    "import random"
   ]
  },
  {
   "cell_type": "code",
   "execution_count": 4,
   "id": "b201b3fd-4da7-427b-b4dc-ca4055a58377",
   "metadata": {},
   "outputs": [],
   "source": [
    "num1 = random.randint(1, 10)\n",
    "num2 = random.randint(1, 10)"
   ]
  },
  {
   "cell_type": "code",
   "execution_count": 5,
   "id": "3f589070-5483-4045-9576-a0d344141abe",
   "metadata": {},
   "outputs": [
    {
     "name": "stdout",
     "output_type": "stream",
     "text": [
      "What is 2 × 9?\n"
     ]
    },
    {
     "name": "stdin",
     "output_type": "stream",
     "text": [
      "Enter your answer:  18\n"
     ]
    }
   ],
   "source": [
    "print(f\"What is {num1} × {num2}?\")\n",
    "user_answer = int(input(\"Enter your answer: \"))"
   ]
  },
  {
   "cell_type": "code",
   "execution_count": 6,
   "id": "4bb7b462-e628-4a6c-827b-fe0a80c2d17f",
   "metadata": {},
   "outputs": [],
   "source": [
    "correct_answer = num1 * num2"
   ]
  },
  {
   "cell_type": "code",
   "execution_count": 7,
   "id": "e8c67217-2ded-4b5f-8eaf-3970d577262d",
   "metadata": {},
   "outputs": [
    {
     "name": "stdout",
     "output_type": "stream",
     "text": [
      " Correct! Well done!\n"
     ]
    }
   ],
   "source": [
    "if user_answer == correct_answer:\n",
    "    print(\" Correct! Well done!\")\n",
    "else:\n",
    "    print(\" Incorrect. The correct answer is {correct_answer}.\")"
   ]
  },
  {
   "cell_type": "code",
   "execution_count": null,
   "id": "e554444c-11e7-45b9-9db0-27863f34e841",
   "metadata": {},
   "outputs": [],
   "source": []
  }
 ],
 "metadata": {
  "kernelspec": {
   "display_name": "Python 3 (ipykernel)",
   "language": "python",
   "name": "python3"
  },
  "language_info": {
   "codemirror_mode": {
    "name": "ipython",
    "version": 3
   },
   "file_extension": ".py",
   "mimetype": "text/x-python",
   "name": "python",
   "nbconvert_exporter": "python",
   "pygments_lexer": "ipython3",
   "version": "3.13.5"
  }
 },
 "nbformat": 4,
 "nbformat_minor": 5
}
