{
 "cells": [
  {
   "cell_type": "markdown",
   "id": "b59683d6-5d38-43cb-918a-a7a12a988e16",
   "metadata": {},
   "source": [
    "#### Exercise 4:"
   ]
  },
  {
   "cell_type": "markdown",
   "id": "0154769f-bba4-4ef2-9ea6-8d53c0f5d0e3",
   "metadata": {},
   "source": [
    "### Problem Statement (Question): Hospital Billing System"
   ]
  },
  {
   "cell_type": "markdown",
   "id": "c14b5cba-9567-424c-9a6f-3bc7a2e12ca1",
   "metadata": {},
   "source": [
    "#### A hospital charges its patients based on the following:\n",
    "•\tRoom charges per day: ₹2,000\n",
    "•\tDoctor consultation fee (flat): ₹1,500\n",
    "•\tLab test charges: Based on the number of tests taken. Each test costs ₹300\n",
    "•\tMedicine charges: Total cost of medicines provided\n",
    "•\tDiscount: If the total bill (before discount) exceeds ₹10,000, a 10% discount is applied\n"
   ]
  },
  {
   "cell_type": "markdown",
   "id": "9604ef05-7bf5-4daa-80ea-ebce345999bb",
   "metadata": {},
   "source": [
    "#### Write a Python program to calculate the final bill for a patient who:\n",
    "•\tStayed for 4 days\n",
    "•\tHad 3 lab tests\n",
    "•\tHad medicine charges of ₹2,400\n"
   ]
  },
  {
   "cell_type": "code",
   "execution_count": 4,
   "id": "f1aa21c8-0b89-4125-b46c-d43df8af53f5",
   "metadata": {},
   "outputs": [],
   "source": [
    "room_charge_per_day = 2000           \n",
    "doctor_fee = 1500                    \n",
    "lab_test_charge = 300                "
   ]
  },
  {
   "cell_type": "code",
   "execution_count": 5,
   "id": "7cebfec9-84ee-4410-b001-e2401dcfda64",
   "metadata": {},
   "outputs": [],
   "source": [
    "days_stayed = 4\n",
    "num_tests = 3\n",
    "medicine_charges = 2400"
   ]
  },
  {
   "cell_type": "code",
   "execution_count": 6,
   "id": "c521b6dd-9c00-434c-b0f3-d109e0d6606a",
   "metadata": {},
   "outputs": [],
   "source": [
    "room_total = room_charge_per_day * days_stayed\n",
    "lab_total = lab_test_charge * num_tests"
   ]
  },
  {
   "cell_type": "code",
   "execution_count": 7,
   "id": "36fce2f7-85b5-4453-8d45-386f0c8f6d20",
   "metadata": {},
   "outputs": [],
   "source": [
    "total_before_discount = room_total + doctor_fee + lab_total + medicine_charges"
   ]
  },
  {
   "cell_type": "code",
   "execution_count": 8,
   "id": "87732722-db8c-48e6-9af1-ec94bb90ea48",
   "metadata": {},
   "outputs": [],
   "source": [
    "if total_before_discount > 10000:\n",
    "    discount = total_before_discount * 0.10   \n",
    "else:\n",
    "    discount = 0"
   ]
  },
  {
   "cell_type": "code",
   "execution_count": 9,
   "id": "d5c14a82-ad99-437b-a349-d18d4b8f4666",
   "metadata": {},
   "outputs": [],
   "source": [
    "final_bill = total_before_discount - discount"
   ]
  },
  {
   "cell_type": "code",
   "execution_count": 11,
   "id": "55ce52ed-c8bf-4ea9-bb52-a095d363f5c5",
   "metadata": {},
   "outputs": [
    {
     "name": "stdout",
     "output_type": "stream",
     "text": [
      "Hospital Billing System\n",
      "----------------------------\n",
      "Room Charges (4 days): ₹8000\n",
      "Doctor Consultation Fee: ₹1500\n",
      "Lab Test Charges (3 tests): ₹900\n",
      "Medicine Charges: ₹2400\n",
      "----------------------------\n",
      "Total (before discount): ₹12800\n",
      "Discount Applied: ₹1280.0\n",
      "----------------------------\n",
      "💰 Final Bill Amount: ₹11520.0\n"
     ]
    }
   ],
   "source": [
    "print(\"Hospital Billing System\")\n",
    "print(\"----------------------------\")\n",
    "print(f\"Room Charges ({days_stayed} days): ₹{room_total}\")\n",
    "print(f\"Doctor Consultation Fee: ₹{doctor_fee}\")\n",
    "print(f\"Lab Test Charges ({num_tests} tests): ₹{lab_total}\")\n",
    "print(f\"Medicine Charges: ₹{medicine_charges}\")\n",
    "print(\"----------------------------\")\n",
    "print(f\"Total (before discount): ₹{total_before_discount}\")\n",
    "print(f\"Discount Applied: ₹{discount}\")\n",
    "print(\"----------------------------\")\n",
    "print(f\"💰 Final Bill Amount: ₹{final_bill}\")"
   ]
  },
  {
   "cell_type": "code",
   "execution_count": null,
   "id": "5fb9e1de-fb9c-48d6-84be-e43ca911d5d6",
   "metadata": {},
   "outputs": [],
   "source": []
  }
 ],
 "metadata": {
  "kernelspec": {
   "display_name": "Python 3 (ipykernel)",
   "language": "python",
   "name": "python3"
  },
  "language_info": {
   "codemirror_mode": {
    "name": "ipython",
    "version": 3
   },
   "file_extension": ".py",
   "mimetype": "text/x-python",
   "name": "python",
   "nbconvert_exporter": "python",
   "pygments_lexer": "ipython3",
   "version": "3.13.5"
  }
 },
 "nbformat": 4,
 "nbformat_minor": 5
}
