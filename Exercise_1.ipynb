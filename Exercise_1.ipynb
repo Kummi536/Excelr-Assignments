{
 "cells": [
  {
   "cell_type": "markdown",
   "id": "f90293de-c2a9-4d07-b944-de33905a48ac",
   "metadata": {},
   "source": [
    "#### Exercise 1: Prime Numbers"
   ]
  },
  {
   "cell_type": "markdown",
   "id": "ee94caed-afbf-4017-9fed-ee34c861c4f0",
   "metadata": {},
   "source": [
    "### Write a Python program that checks whether a given number is prime or not. A prime number is a natural number greater than 1 that has no positive divisors other than 1 and itself"
   ]
  },
  {
   "cell_type": "code",
   "execution_count": 6,
   "id": "0e762f93-0196-4a93-a38b-4afb0b54d317",
   "metadata": {},
   "outputs": [],
   "source": [
    "def is_prime(num):\n",
    "    if num <= 1:\n",
    "        return False\n",
    "    for i in range(2, int(num ** 0.5) + 1):\n",
    "        if num % i == 0:\n",
    "            return False\n",
    "    return True\n"
   ]
  },
  {
   "cell_type": "code",
   "execution_count": 7,
   "id": "44af7794-303c-4ac1-8ab7-f08eeb47a9b1",
   "metadata": {},
   "outputs": [
    {
     "name": "stdin",
     "output_type": "stream",
     "text": [
      "Enter numbers separated by spaces:  1 2 7 13 9 15\n"
     ]
    }
   ],
   "source": [
    "numbers = list(map(int, input(\"Enter numbers separated by spaces: \").split()))"
   ]
  },
  {
   "cell_type": "code",
   "execution_count": 8,
   "id": "84515710-033f-4767-ac69-7276da360019",
   "metadata": {},
   "outputs": [
    {
     "name": "stdout",
     "output_type": "stream",
     "text": [
      "\n",
      "Prime number check results:\n",
      "1 is not a prime number.\n",
      "2 is a prime number.\n",
      "7 is a prime number.\n",
      "13 is a prime number.\n",
      "9 is not a prime number.\n",
      "15 is not a prime number.\n"
     ]
    }
   ],
   "source": [
    "print(\"\\nPrime number check results:\")\n",
    "for n in numbers:\n",
    "    if is_prime(n):\n",
    "        print(f\"{n} is a prime number.\")\n",
    "    else:\n",
    "        print(f\"{n} is not a prime number.\")\n"
   ]
  },
  {
   "cell_type": "markdown",
   "id": "eb8c78c1-74a3-4c0a-bad7-63731fd3673e",
   "metadata": {},
   "source": []
  },
  {
   "cell_type": "markdown",
   "id": "774a75e1-b53f-45ad-82d7-c34675423ee2",
   "metadata": {},
   "source": []
  },
  {
   "cell_type": "code",
   "execution_count": null,
   "id": "7766736d-b775-4458-8b62-855d1c0223e6",
   "metadata": {},
   "outputs": [],
   "source": []
  }
 ],
 "metadata": {
  "kernelspec": {
   "display_name": "Python 3 (ipykernel)",
   "language": "python",
   "name": "python3"
  },
  "language_info": {
   "codemirror_mode": {
    "name": "ipython",
    "version": 3
   },
   "file_extension": ".py",
   "mimetype": "text/x-python",
   "name": "python",
   "nbconvert_exporter": "python",
   "pygments_lexer": "ipython3",
   "version": "3.13.5"
  }
 },
 "nbformat": 4,
 "nbformat_minor": 5
}
